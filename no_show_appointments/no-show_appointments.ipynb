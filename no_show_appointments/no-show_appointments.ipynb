{
 "cells": [
  {
   "cell_type": "markdown",
   "metadata": {},
   "source": [
    "\n",
    "# Project: Investigate the no-show appointments dataset\n",
    "\n",
    "## Table of Contents\n",
    "<ul>\n",
    "<li><a href=\"#intro\">Introduction</a></li>\n",
    "<li><a href=\"#wrangling\">Data Wrangling</a></li>\n",
    "<li><a href=\"#eda\">Exploratory Data Analysis</a></li>\n",
    "<li><a href=\"#conclusions\">Conclusions</a></li>\n",
    "</ul>"
   ]
  },
  {
   "cell_type": "markdown",
   "metadata": {},
   "source": [
    "<a id='intro'></a>\n",
    "## Introduction\n",
    "\n",
    "This dataset collects information from 100k medical appointments in Brazil and is focused on the question of whether or not patients show up for their appointment. A number of characteristics about the patient are included in each row.\n",
    "\n",
    "Data Dictionary\n",
    "\n",
    "01 - PatientId:\n",
    "Identification of a patient\n",
    "\n",
    "02 - AppointmentID:\n",
    "Identification of each appointment\n",
    "\n",
    "03 - Gender:\n",
    "Male or Female . Female is the greater proportion, woman takes way more care of they health in comparison to man.\n",
    "\n",
    "04 - ScheduledDay:\n",
    "The day someone called or registered the appointment, this is before appointment of course.\n",
    "\n",
    "05 - AppointmentDay:\n",
    "tells us on what day the patient set up their appointment.\n",
    "\n",
    "06 - Age:\n",
    "How old is the patient.\n",
    "\n",
    "07 - Neighbourhood:\n",
    "Where the appointment takes place.\n",
    "\n",
    "08 - Scholarship:\n",
    "1 or 0 indicates True or False.. indicates whether or not the patient is enrolled in Brasilian welfare program Bolsa Família.\n",
    "\n",
    "09 - Hipertension:\n",
    "1 or 0 indicates True or False.\n",
    "\n",
    "10 - Diabetes:\n",
    "1 or 0 indicates True or False.\n",
    "\n",
    "11 - Alcoholism:\n",
    "1 or 0 indicates True or False.\n",
    "\n",
    "12 - Handcap:\n",
    "1 or 0 indicates True or False.\n",
    "\n",
    "13 - SMS_received:\n",
    "1 or more messages sent to the patient.\n",
    "\n",
    "14 - No-show:\n",
    "'Yes' or 'No'."
   ]
  },
  {
   "cell_type": "markdown",
   "metadata": {},
   "source": [
    "## Questions to Explore:\n",
    "first we will define waiting time as the number of days from registering for an appointment untill the appointment day.\n",
    "- Is gender of the patient related to showing up in the appointment?\n",
    "- Is receiving an SMS affect showing up in the appointment?\n",
    "- Is having a scholarship somehow related to showing up?\n",
    "- What is the proportion of patients who have been diagnosed with Diabetes, Alchoholism, Handicap or Hypertension and show up to those who have but didn't show up?\n",
    "- What is the showing up rate associeted with each neighbourhood?\n",
    "- What is the age distribution and is there a range where it is more likely to show up?\n",
    "- Is there a relationship between the waiting time and the number of patients showing up?"
   ]
  },
  {
   "cell_type": "code",
   "execution_count": 1,
   "metadata": {
    "collapsed": true
   },
   "outputs": [],
   "source": [
    "# importing libraries\n",
    "import numpy as np \n",
    "import pandas as pd\n",
    "import matplotlib.pyplot as plt\n",
    "import seaborn as sns; sns.set()\n",
    "import os \n",
    "%matplotlib inline"
   ]
  },
  {
   "cell_type": "markdown",
   "metadata": {},
   "source": [
    "<a id='wrangling'></a>\n",
    "## Data Wrangling\n",
    "\n",
    "### General Properties"
   ]
  },
  {
   "cell_type": "code",
   "execution_count": 2,
   "metadata": {
    "collapsed": true
   },
   "outputs": [
    {
     "data": {
      "text/html": [
       "<div>\n",
       "<style scoped>\n",
       "    .dataframe tbody tr th:only-of-type {\n",
       "        vertical-align: middle;\n",
       "    }\n",
       "\n",
       "    .dataframe tbody tr th {\n",
       "        vertical-align: top;\n",
       "    }\n",
       "\n",
       "    .dataframe thead th {\n",
       "        text-align: right;\n",
       "    }\n",
       "</style>\n",
       "<table border=\"1\" class=\"dataframe\">\n",
       "  <thead>\n",
       "    <tr style=\"text-align: right;\">\n",
       "      <th></th>\n",
       "      <th>PatientId</th>\n",
       "      <th>AppointmentID</th>\n",
       "      <th>Gender</th>\n",
       "      <th>ScheduledDay</th>\n",
       "      <th>AppointmentDay</th>\n",
       "      <th>Age</th>\n",
       "      <th>Neighbourhood</th>\n",
       "      <th>Scholarship</th>\n",
       "      <th>Hipertension</th>\n",
       "      <th>Diabetes</th>\n",
       "      <th>Alcoholism</th>\n",
       "      <th>Handcap</th>\n",
       "      <th>SMS_received</th>\n",
       "      <th>No-show</th>\n",
       "    </tr>\n",
       "  </thead>\n",
       "  <tbody>\n",
       "    <tr>\n",
       "      <th>0</th>\n",
       "      <td>2.987250e+13</td>\n",
       "      <td>5642903</td>\n",
       "      <td>F</td>\n",
       "      <td>2016-04-29T18:38:08Z</td>\n",
       "      <td>2016-04-29T00:00:00Z</td>\n",
       "      <td>62</td>\n",
       "      <td>JARDIM DA PENHA</td>\n",
       "      <td>0</td>\n",
       "      <td>1</td>\n",
       "      <td>0</td>\n",
       "      <td>0</td>\n",
       "      <td>0</td>\n",
       "      <td>0</td>\n",
       "      <td>No</td>\n",
       "    </tr>\n",
       "    <tr>\n",
       "      <th>1</th>\n",
       "      <td>5.589978e+14</td>\n",
       "      <td>5642503</td>\n",
       "      <td>M</td>\n",
       "      <td>2016-04-29T16:08:27Z</td>\n",
       "      <td>2016-04-29T00:00:00Z</td>\n",
       "      <td>56</td>\n",
       "      <td>JARDIM DA PENHA</td>\n",
       "      <td>0</td>\n",
       "      <td>0</td>\n",
       "      <td>0</td>\n",
       "      <td>0</td>\n",
       "      <td>0</td>\n",
       "      <td>0</td>\n",
       "      <td>No</td>\n",
       "    </tr>\n",
       "    <tr>\n",
       "      <th>2</th>\n",
       "      <td>4.262962e+12</td>\n",
       "      <td>5642549</td>\n",
       "      <td>F</td>\n",
       "      <td>2016-04-29T16:19:04Z</td>\n",
       "      <td>2016-04-29T00:00:00Z</td>\n",
       "      <td>62</td>\n",
       "      <td>MATA DA PRAIA</td>\n",
       "      <td>0</td>\n",
       "      <td>0</td>\n",
       "      <td>0</td>\n",
       "      <td>0</td>\n",
       "      <td>0</td>\n",
       "      <td>0</td>\n",
       "      <td>No</td>\n",
       "    </tr>\n",
       "  </tbody>\n",
       "</table>\n",
       "</div>"
      ],
      "text/plain": [
       "      PatientId  AppointmentID Gender          ScheduledDay  \\\n",
       "0  2.987250e+13        5642903      F  2016-04-29T18:38:08Z   \n",
       "1  5.589978e+14        5642503      M  2016-04-29T16:08:27Z   \n",
       "2  4.262962e+12        5642549      F  2016-04-29T16:19:04Z   \n",
       "\n",
       "         AppointmentDay  Age    Neighbourhood  Scholarship  Hipertension  \\\n",
       "0  2016-04-29T00:00:00Z   62  JARDIM DA PENHA            0             1   \n",
       "1  2016-04-29T00:00:00Z   56  JARDIM DA PENHA            0             0   \n",
       "2  2016-04-29T00:00:00Z   62    MATA DA PRAIA            0             0   \n",
       "\n",
       "   Diabetes  Alcoholism  Handcap  SMS_received No-show  \n",
       "0         0           0        0             0      No  \n",
       "1         0           0        0             0      No  \n",
       "2         0           0        0             0      No  "
      ]
     },
     "execution_count": 2,
     "metadata": {},
     "output_type": "execute_result"
    }
   ],
   "source": [
    "# Load your data and print out a few lines. Perform operations to inspect data\n",
    "#   types and look for instances of missing or possibly errant data.\n",
    "df = pd.read_csv('no-show_appointments.csv')\n",
    "df.head(3)"
   ]
  },
  {
   "cell_type": "code",
   "execution_count": 3,
   "metadata": {},
   "outputs": [
    {
     "name": "stdout",
     "output_type": "stream",
     "text": [
      "<class 'pandas.core.frame.DataFrame'>\n",
      "RangeIndex: 110527 entries, 0 to 110526\n",
      "Data columns (total 14 columns):\n",
      " #   Column          Non-Null Count   Dtype  \n",
      "---  ------          --------------   -----  \n",
      " 0   PatientId       110527 non-null  float64\n",
      " 1   AppointmentID   110527 non-null  int64  \n",
      " 2   Gender          110527 non-null  object \n",
      " 3   ScheduledDay    110527 non-null  object \n",
      " 4   AppointmentDay  110527 non-null  object \n",
      " 5   Age             110527 non-null  int64  \n",
      " 6   Neighbourhood   110527 non-null  object \n",
      " 7   Scholarship     110527 non-null  int64  \n",
      " 8   Hipertension    110527 non-null  int64  \n",
      " 9   Diabetes        110527 non-null  int64  \n",
      " 10  Alcoholism      110527 non-null  int64  \n",
      " 11  Handcap         110527 non-null  int64  \n",
      " 12  SMS_received    110527 non-null  int64  \n",
      " 13  No-show         110527 non-null  object \n",
      "dtypes: float64(1), int64(8), object(5)\n",
      "memory usage: 11.8+ MB\n"
     ]
    }
   ],
   "source": [
    "# show information about the dataset\n",
    "df.info()"
   ]
  },
  {
   "cell_type": "code",
   "execution_count": 4,
   "metadata": {},
   "outputs": [
    {
     "data": {
      "text/plain": [
       "PatientId          62299\n",
       "AppointmentID     110527\n",
       "Gender                 2\n",
       "ScheduledDay      103549\n",
       "AppointmentDay        27\n",
       "Age                  104\n",
       "Neighbourhood         81\n",
       "Scholarship            2\n",
       "Hipertension           2\n",
       "Diabetes               2\n",
       "Alcoholism             2\n",
       "Handcap                5\n",
       "SMS_received           2\n",
       "No-show                2\n",
       "dtype: int64"
      ]
     },
     "execution_count": 4,
     "metadata": {},
     "output_type": "execute_result"
    }
   ],
   "source": [
    "df.nunique()"
   ]
  },
  {
   "cell_type": "code",
   "execution_count": 5,
   "metadata": {},
   "outputs": [
    {
     "data": {
      "text/plain": [
       "False"
      ]
     },
     "execution_count": 5,
     "metadata": {},
     "output_type": "execute_result"
    }
   ],
   "source": [
    "df.isna().any().any()"
   ]
  },
  {
   "cell_type": "markdown",
   "metadata": {},
   "source": [
    "there is no null values "
   ]
  },
  {
   "cell_type": "code",
   "execution_count": 6,
   "metadata": {},
   "outputs": [
    {
     "data": {
      "text/plain": [
       "False"
      ]
     },
     "execution_count": 6,
     "metadata": {},
     "output_type": "execute_result"
    }
   ],
   "source": [
    "df.duplicated().any()"
   ]
  },
  {
   "cell_type": "markdown",
   "metadata": {},
   "source": [
    "there is no duplicates"
   ]
  },
  {
   "cell_type": "markdown",
   "metadata": {},
   "source": [
    "- there is no need for PatientId or AppointmentID columns to answer our questions so we will drop them.\n",
    "- ScheduledDay and AppointmentDay columns need to be converted to datetime format and then we calculate the waiting time from them.\n",
    "- there is some typos in the column names and it would be better if they are lowercase separeted by '_'.\n",
    "- Handcap has five unique values, it should contain only 1s and 0s.\n",
    "- the No-show column has Yes and No values it would be easier to deal with 1s and 0s.\n",
    "- the Age column is interesting it has 104 values that mean that the oldest person is at least 104 years old so we get a further look to that."
   ]
  },
  {
   "cell_type": "code",
   "execution_count": 7,
   "metadata": {},
   "outputs": [
    {
     "data": {
      "text/plain": [
       "count    110527.000000\n",
       "mean         37.088874\n",
       "std          23.110205\n",
       "min          -1.000000\n",
       "25%          18.000000\n",
       "50%          37.000000\n",
       "75%          55.000000\n",
       "max         115.000000\n",
       "Name: Age, dtype: float64"
      ]
     },
     "execution_count": 7,
     "metadata": {},
     "output_type": "execute_result"
    }
   ],
   "source": [
    "# Exploring the age column for more insight\n",
    "df['Age'].describe()"
   ]
  },
  {
   "cell_type": "markdown",
   "metadata": {},
   "source": [
    "interesting there are some ghosts with -1 years old we have to drop those"
   ]
  },
  {
   "cell_type": "code",
   "execution_count": 8,
   "metadata": {},
   "outputs": [
    {
     "data": {
      "text/plain": [
       "array([0, 1, 2, 3, 4], dtype=int64)"
      ]
     },
     "execution_count": 8,
     "metadata": {},
     "output_type": "execute_result"
    }
   ],
   "source": [
    "# Exploring the handicap column \n",
    "df['Handcap'].unique()"
   ]
  },
  {
   "cell_type": "markdown",
   "metadata": {},
   "source": [
    "the handicap column should be represented by 1s and 0s so all values greater than 1 will be casted to 1"
   ]
  },
  {
   "cell_type": "markdown",
   "metadata": {},
   "source": [
    "### Data Cleaning \n",
    "- drop PatientId and AppointmentID columns .\n",
    "- convert ScheduledDay and AppointmentDay columns to datetime.\n",
    "- correct typos in the column names and it would be better if they are lowercase separeted by '_'.\n",
    "- Handcap has five unique values, it should contain only 1s and 0s.\n",
    "- the No-show column has Yes and No values it would be easier to deal with 1s and 0s.\n",
    "- drop values less than 0 from the Age column"
   ]
  },
  {
   "cell_type": "code",
   "execution_count": 9,
   "metadata": {
    "collapsed": true
   },
   "outputs": [],
   "source": [
    "# drop the unnecessary columns\n",
    "df.drop(['PatientId', 'AppointmentID'], axis=1, inplace=True)"
   ]
  },
  {
   "cell_type": "code",
   "execution_count": 10,
   "metadata": {},
   "outputs": [],
   "source": [
    "# convert ScheduledDay and AppointmentDay to datetime format\n",
    "df[['ScheduledDay', 'AppointmentDay']] = df[['ScheduledDay', 'AppointmentDay']].astype(np.datetime64)\n"
   ]
  },
  {
   "cell_type": "code",
   "execution_count": 11,
   "metadata": {},
   "outputs": [
    {
     "data": {
      "text/html": [
       "<div>\n",
       "<style scoped>\n",
       "    .dataframe tbody tr th:only-of-type {\n",
       "        vertical-align: middle;\n",
       "    }\n",
       "\n",
       "    .dataframe tbody tr th {\n",
       "        vertical-align: top;\n",
       "    }\n",
       "\n",
       "    .dataframe thead th {\n",
       "        text-align: right;\n",
       "    }\n",
       "</style>\n",
       "<table border=\"1\" class=\"dataframe\">\n",
       "  <thead>\n",
       "    <tr style=\"text-align: right;\">\n",
       "      <th></th>\n",
       "      <th>gender</th>\n",
       "      <th>scheduled_day</th>\n",
       "      <th>appointment_day</th>\n",
       "      <th>age</th>\n",
       "      <th>neighbourhood</th>\n",
       "      <th>scholarship</th>\n",
       "      <th>hypertension</th>\n",
       "      <th>diabetes</th>\n",
       "      <th>alcoholism</th>\n",
       "      <th>handicap</th>\n",
       "      <th>sms_received</th>\n",
       "      <th>no_show</th>\n",
       "    </tr>\n",
       "  </thead>\n",
       "  <tbody>\n",
       "    <tr>\n",
       "      <th>0</th>\n",
       "      <td>F</td>\n",
       "      <td>2016-04-29 18:38:08</td>\n",
       "      <td>2016-04-29</td>\n",
       "      <td>62</td>\n",
       "      <td>JARDIM DA PENHA</td>\n",
       "      <td>0</td>\n",
       "      <td>1</td>\n",
       "      <td>0</td>\n",
       "      <td>0</td>\n",
       "      <td>0</td>\n",
       "      <td>0</td>\n",
       "      <td>No</td>\n",
       "    </tr>\n",
       "    <tr>\n",
       "      <th>1</th>\n",
       "      <td>M</td>\n",
       "      <td>2016-04-29 16:08:27</td>\n",
       "      <td>2016-04-29</td>\n",
       "      <td>56</td>\n",
       "      <td>JARDIM DA PENHA</td>\n",
       "      <td>0</td>\n",
       "      <td>0</td>\n",
       "      <td>0</td>\n",
       "      <td>0</td>\n",
       "      <td>0</td>\n",
       "      <td>0</td>\n",
       "      <td>No</td>\n",
       "    </tr>\n",
       "  </tbody>\n",
       "</table>\n",
       "</div>"
      ],
      "text/plain": [
       "  gender       scheduled_day appointment_day  age    neighbourhood  \\\n",
       "0      F 2016-04-29 18:38:08      2016-04-29   62  JARDIM DA PENHA   \n",
       "1      M 2016-04-29 16:08:27      2016-04-29   56  JARDIM DA PENHA   \n",
       "\n",
       "   scholarship  hypertension  diabetes  alcoholism  handicap  sms_received  \\\n",
       "0            0             1         0           0         0             0   \n",
       "1            0             0         0           0         0             0   \n",
       "\n",
       "  no_show  \n",
       "0      No  \n",
       "1      No  "
      ]
     },
     "execution_count": 11,
     "metadata": {},
     "output_type": "execute_result"
    }
   ],
   "source": [
    "# correct typos\n",
    "df.rename(columns={'Handcap': 'handicap', 'Hipertension': 'hypertension', 'No-show': 'no_show'}, inplace=True)\n",
    "# make column's names lower_case\n",
    "df.rename(lambda x: x.replace('Day', '_day').lower(), axis=1, inplace=True)\n",
    "# check\n",
    "df.head(2)"
   ]
  },
  {
   "cell_type": "code",
   "execution_count": 12,
   "metadata": {},
   "outputs": [
    {
     "data": {
      "text/plain": [
       "array([0, 1], dtype=int64)"
      ]
     },
     "execution_count": 12,
     "metadata": {},
     "output_type": "execute_result"
    }
   ],
   "source": [
    "# Correcting Handcap data\n",
    "df.loc[df[\"handicap\"] > 1, 'handicap'] = 1\n",
    "# check should be 0 and 1\n",
    "df['handicap'].unique()"
   ]
  },
  {
   "cell_type": "code",
   "execution_count": 13,
   "metadata": {},
   "outputs": [
    {
     "data": {
      "text/plain": [
       "array([0, 1], dtype=int64)"
      ]
     },
     "execution_count": 13,
     "metadata": {},
     "output_type": "execute_result"
    }
   ],
   "source": [
    "# it is easy to deal with 1 and 0 rather than yes and no\n",
    "df[\"no_show\"].replace(['Yes', 'No'], [1, 0], inplace=True)\n",
    "# check should be 0 and 1 \n",
    "df['no_show'].unique()"
   ]
  },
  {
   "cell_type": "code",
   "execution_count": 14,
   "metadata": {},
   "outputs": [
    {
     "data": {
      "text/plain": [
       "False"
      ]
     },
     "execution_count": 14,
     "metadata": {},
     "output_type": "execute_result"
    }
   ],
   "source": [
    "# drop values less than 0 from the age column\n",
    "df.drop(df.query(\"age < 0\").index, inplace=True, axis=0)\n",
    "# check if False we're good\n",
    "(df['age'] < 0).any()"
   ]
  },
  {
   "cell_type": "markdown",
   "metadata": {},
   "source": [
    "create the `waiting_time` column"
   ]
  },
  {
   "cell_type": "code",
   "execution_count": 15,
   "metadata": {},
   "outputs": [
    {
     "data": {
      "text/html": [
       "<div>\n",
       "<style scoped>\n",
       "    .dataframe tbody tr th:only-of-type {\n",
       "        vertical-align: middle;\n",
       "    }\n",
       "\n",
       "    .dataframe tbody tr th {\n",
       "        vertical-align: top;\n",
       "    }\n",
       "\n",
       "    .dataframe thead th {\n",
       "        text-align: right;\n",
       "    }\n",
       "</style>\n",
       "<table border=\"1\" class=\"dataframe\">\n",
       "  <thead>\n",
       "    <tr style=\"text-align: right;\">\n",
       "      <th></th>\n",
       "      <th>gender</th>\n",
       "      <th>scheduled_day</th>\n",
       "      <th>appointment_day</th>\n",
       "      <th>age</th>\n",
       "      <th>neighbourhood</th>\n",
       "      <th>scholarship</th>\n",
       "      <th>hypertension</th>\n",
       "      <th>diabetes</th>\n",
       "      <th>alcoholism</th>\n",
       "      <th>handicap</th>\n",
       "      <th>sms_received</th>\n",
       "      <th>no_show</th>\n",
       "      <th>waiting_time</th>\n",
       "    </tr>\n",
       "  </thead>\n",
       "  <tbody>\n",
       "    <tr>\n",
       "      <th>0</th>\n",
       "      <td>F</td>\n",
       "      <td>2016-04-29 18:38:08</td>\n",
       "      <td>2016-04-29</td>\n",
       "      <td>62</td>\n",
       "      <td>JARDIM DA PENHA</td>\n",
       "      <td>0</td>\n",
       "      <td>1</td>\n",
       "      <td>0</td>\n",
       "      <td>0</td>\n",
       "      <td>0</td>\n",
       "      <td>0</td>\n",
       "      <td>0</td>\n",
       "      <td>0</td>\n",
       "    </tr>\n",
       "    <tr>\n",
       "      <th>1</th>\n",
       "      <td>M</td>\n",
       "      <td>2016-04-29 16:08:27</td>\n",
       "      <td>2016-04-29</td>\n",
       "      <td>56</td>\n",
       "      <td>JARDIM DA PENHA</td>\n",
       "      <td>0</td>\n",
       "      <td>0</td>\n",
       "      <td>0</td>\n",
       "      <td>0</td>\n",
       "      <td>0</td>\n",
       "      <td>0</td>\n",
       "      <td>0</td>\n",
       "      <td>0</td>\n",
       "    </tr>\n",
       "    <tr>\n",
       "      <th>2</th>\n",
       "      <td>F</td>\n",
       "      <td>2016-04-29 16:19:04</td>\n",
       "      <td>2016-04-29</td>\n",
       "      <td>62</td>\n",
       "      <td>MATA DA PRAIA</td>\n",
       "      <td>0</td>\n",
       "      <td>0</td>\n",
       "      <td>0</td>\n",
       "      <td>0</td>\n",
       "      <td>0</td>\n",
       "      <td>0</td>\n",
       "      <td>0</td>\n",
       "      <td>0</td>\n",
       "    </tr>\n",
       "  </tbody>\n",
       "</table>\n",
       "</div>"
      ],
      "text/plain": [
       "  gender       scheduled_day appointment_day  age    neighbourhood  \\\n",
       "0      F 2016-04-29 18:38:08      2016-04-29   62  JARDIM DA PENHA   \n",
       "1      M 2016-04-29 16:08:27      2016-04-29   56  JARDIM DA PENHA   \n",
       "2      F 2016-04-29 16:19:04      2016-04-29   62    MATA DA PRAIA   \n",
       "\n",
       "   scholarship  hypertension  diabetes  alcoholism  handicap  sms_received  \\\n",
       "0            0             1         0           0         0             0   \n",
       "1            0             0         0           0         0             0   \n",
       "2            0             0         0           0         0             0   \n",
       "\n",
       "   no_show  waiting_time  \n",
       "0        0             0  \n",
       "1        0             0  \n",
       "2        0             0  "
      ]
     },
     "execution_count": 15,
     "metadata": {},
     "output_type": "execute_result"
    }
   ],
   "source": [
    "df = df.assign(waiting_time= df['appointment_day'].dt.day - df['scheduled_day'].dt.day)\n",
    "df.head(3)"
   ]
  },
  {
   "cell_type": "markdown",
   "metadata": {},
   "source": [
    "create a column if the patient has a special condition (hypertension, diabetes, alcoholism, handicap) true if any false otherwise"
   ]
  },
  {
   "cell_type": "code",
   "execution_count": 16,
   "metadata": {},
   "outputs": [
    {
     "data": {
      "text/html": [
       "<div>\n",
       "<style scoped>\n",
       "    .dataframe tbody tr th:only-of-type {\n",
       "        vertical-align: middle;\n",
       "    }\n",
       "\n",
       "    .dataframe tbody tr th {\n",
       "        vertical-align: top;\n",
       "    }\n",
       "\n",
       "    .dataframe thead th {\n",
       "        text-align: right;\n",
       "    }\n",
       "</style>\n",
       "<table border=\"1\" class=\"dataframe\">\n",
       "  <thead>\n",
       "    <tr style=\"text-align: right;\">\n",
       "      <th></th>\n",
       "      <th>gender</th>\n",
       "      <th>scheduled_day</th>\n",
       "      <th>appointment_day</th>\n",
       "      <th>age</th>\n",
       "      <th>neighbourhood</th>\n",
       "      <th>scholarship</th>\n",
       "      <th>hypertension</th>\n",
       "      <th>diabetes</th>\n",
       "      <th>alcoholism</th>\n",
       "      <th>handicap</th>\n",
       "      <th>sms_received</th>\n",
       "      <th>no_show</th>\n",
       "      <th>waiting_time</th>\n",
       "      <th>special_cond</th>\n",
       "    </tr>\n",
       "  </thead>\n",
       "  <tbody>\n",
       "    <tr>\n",
       "      <th>0</th>\n",
       "      <td>F</td>\n",
       "      <td>2016-04-29 18:38:08</td>\n",
       "      <td>2016-04-29</td>\n",
       "      <td>62</td>\n",
       "      <td>JARDIM DA PENHA</td>\n",
       "      <td>0</td>\n",
       "      <td>1</td>\n",
       "      <td>0</td>\n",
       "      <td>0</td>\n",
       "      <td>0</td>\n",
       "      <td>0</td>\n",
       "      <td>0</td>\n",
       "      <td>0</td>\n",
       "      <td>True</td>\n",
       "    </tr>\n",
       "    <tr>\n",
       "      <th>1</th>\n",
       "      <td>M</td>\n",
       "      <td>2016-04-29 16:08:27</td>\n",
       "      <td>2016-04-29</td>\n",
       "      <td>56</td>\n",
       "      <td>JARDIM DA PENHA</td>\n",
       "      <td>0</td>\n",
       "      <td>0</td>\n",
       "      <td>0</td>\n",
       "      <td>0</td>\n",
       "      <td>0</td>\n",
       "      <td>0</td>\n",
       "      <td>0</td>\n",
       "      <td>0</td>\n",
       "      <td>False</td>\n",
       "    </tr>\n",
       "    <tr>\n",
       "      <th>2</th>\n",
       "      <td>F</td>\n",
       "      <td>2016-04-29 16:19:04</td>\n",
       "      <td>2016-04-29</td>\n",
       "      <td>62</td>\n",
       "      <td>MATA DA PRAIA</td>\n",
       "      <td>0</td>\n",
       "      <td>0</td>\n",
       "      <td>0</td>\n",
       "      <td>0</td>\n",
       "      <td>0</td>\n",
       "      <td>0</td>\n",
       "      <td>0</td>\n",
       "      <td>0</td>\n",
       "      <td>False</td>\n",
       "    </tr>\n",
       "  </tbody>\n",
       "</table>\n",
       "</div>"
      ],
      "text/plain": [
       "  gender       scheduled_day appointment_day  age    neighbourhood  \\\n",
       "0      F 2016-04-29 18:38:08      2016-04-29   62  JARDIM DA PENHA   \n",
       "1      M 2016-04-29 16:08:27      2016-04-29   56  JARDIM DA PENHA   \n",
       "2      F 2016-04-29 16:19:04      2016-04-29   62    MATA DA PRAIA   \n",
       "\n",
       "   scholarship  hypertension  diabetes  alcoholism  handicap  sms_received  \\\n",
       "0            0             1         0           0         0             0   \n",
       "1            0             0         0           0         0             0   \n",
       "2            0             0         0           0         0             0   \n",
       "\n",
       "   no_show  waiting_time  special_cond  \n",
       "0        0             0          True  \n",
       "1        0             0         False  \n",
       "2        0             0         False  "
      ]
     },
     "execution_count": 16,
     "metadata": {},
     "output_type": "execute_result"
    }
   ],
   "source": [
    "df = df.assign(special_cond=df[['hypertension', 'diabetes', 'alcoholism', 'handicap']].any(axis=1))\n",
    "df.head(3)"
   ]
  },
  {
   "cell_type": "markdown",
   "metadata": {},
   "source": [
    "let's explore the data once more "
   ]
  },
  {
   "cell_type": "code",
   "execution_count": 17,
   "metadata": {},
   "outputs": [
    {
     "data": {
      "text/html": [
       "<div>\n",
       "<style scoped>\n",
       "    .dataframe tbody tr th:only-of-type {\n",
       "        vertical-align: middle;\n",
       "    }\n",
       "\n",
       "    .dataframe tbody tr th {\n",
       "        vertical-align: top;\n",
       "    }\n",
       "\n",
       "    .dataframe thead th {\n",
       "        text-align: right;\n",
       "    }\n",
       "</style>\n",
       "<table border=\"1\" class=\"dataframe\">\n",
       "  <thead>\n",
       "    <tr style=\"text-align: right;\">\n",
       "      <th></th>\n",
       "      <th>age</th>\n",
       "      <th>scholarship</th>\n",
       "      <th>hypertension</th>\n",
       "      <th>diabetes</th>\n",
       "      <th>alcoholism</th>\n",
       "      <th>handicap</th>\n",
       "      <th>sms_received</th>\n",
       "      <th>no_show</th>\n",
       "      <th>waiting_time</th>\n",
       "    </tr>\n",
       "  </thead>\n",
       "  <tbody>\n",
       "    <tr>\n",
       "      <th>count</th>\n",
       "      <td>110526.000000</td>\n",
       "      <td>110526.000000</td>\n",
       "      <td>110526.000000</td>\n",
       "      <td>110526.000000</td>\n",
       "      <td>110526.000000</td>\n",
       "      <td>110526.000000</td>\n",
       "      <td>110526.000000</td>\n",
       "      <td>110526.000000</td>\n",
       "      <td>110526.000000</td>\n",
       "    </tr>\n",
       "    <tr>\n",
       "      <th>mean</th>\n",
       "      <td>37.089219</td>\n",
       "      <td>0.098266</td>\n",
       "      <td>0.197248</td>\n",
       "      <td>0.071865</td>\n",
       "      <td>0.030400</td>\n",
       "      <td>0.020276</td>\n",
       "      <td>0.321029</td>\n",
       "      <td>0.201934</td>\n",
       "      <td>-1.752845</td>\n",
       "    </tr>\n",
       "    <tr>\n",
       "      <th>std</th>\n",
       "      <td>23.110026</td>\n",
       "      <td>0.297676</td>\n",
       "      <td>0.397923</td>\n",
       "      <td>0.258266</td>\n",
       "      <td>0.171686</td>\n",
       "      <td>0.140943</td>\n",
       "      <td>0.466874</td>\n",
       "      <td>0.401445</td>\n",
       "      <td>10.329655</td>\n",
       "    </tr>\n",
       "    <tr>\n",
       "      <th>min</th>\n",
       "      <td>0.000000</td>\n",
       "      <td>0.000000</td>\n",
       "      <td>0.000000</td>\n",
       "      <td>0.000000</td>\n",
       "      <td>0.000000</td>\n",
       "      <td>0.000000</td>\n",
       "      <td>0.000000</td>\n",
       "      <td>0.000000</td>\n",
       "      <td>-30.000000</td>\n",
       "    </tr>\n",
       "    <tr>\n",
       "      <th>25%</th>\n",
       "      <td>18.000000</td>\n",
       "      <td>0.000000</td>\n",
       "      <td>0.000000</td>\n",
       "      <td>0.000000</td>\n",
       "      <td>0.000000</td>\n",
       "      <td>0.000000</td>\n",
       "      <td>0.000000</td>\n",
       "      <td>0.000000</td>\n",
       "      <td>-3.000000</td>\n",
       "    </tr>\n",
       "    <tr>\n",
       "      <th>50%</th>\n",
       "      <td>37.000000</td>\n",
       "      <td>0.000000</td>\n",
       "      <td>0.000000</td>\n",
       "      <td>0.000000</td>\n",
       "      <td>0.000000</td>\n",
       "      <td>0.000000</td>\n",
       "      <td>0.000000</td>\n",
       "      <td>0.000000</td>\n",
       "      <td>0.000000</td>\n",
       "    </tr>\n",
       "    <tr>\n",
       "      <th>75%</th>\n",
       "      <td>55.000000</td>\n",
       "      <td>0.000000</td>\n",
       "      <td>0.000000</td>\n",
       "      <td>0.000000</td>\n",
       "      <td>0.000000</td>\n",
       "      <td>0.000000</td>\n",
       "      <td>1.000000</td>\n",
       "      <td>0.000000</td>\n",
       "      <td>3.000000</td>\n",
       "    </tr>\n",
       "    <tr>\n",
       "      <th>max</th>\n",
       "      <td>115.000000</td>\n",
       "      <td>1.000000</td>\n",
       "      <td>1.000000</td>\n",
       "      <td>1.000000</td>\n",
       "      <td>1.000000</td>\n",
       "      <td>1.000000</td>\n",
       "      <td>1.000000</td>\n",
       "      <td>1.000000</td>\n",
       "      <td>30.000000</td>\n",
       "    </tr>\n",
       "  </tbody>\n",
       "</table>\n",
       "</div>"
      ],
      "text/plain": [
       "                 age    scholarship   hypertension       diabetes  \\\n",
       "count  110526.000000  110526.000000  110526.000000  110526.000000   \n",
       "mean       37.089219       0.098266       0.197248       0.071865   \n",
       "std        23.110026       0.297676       0.397923       0.258266   \n",
       "min         0.000000       0.000000       0.000000       0.000000   \n",
       "25%        18.000000       0.000000       0.000000       0.000000   \n",
       "50%        37.000000       0.000000       0.000000       0.000000   \n",
       "75%        55.000000       0.000000       0.000000       0.000000   \n",
       "max       115.000000       1.000000       1.000000       1.000000   \n",
       "\n",
       "          alcoholism       handicap   sms_received        no_show  \\\n",
       "count  110526.000000  110526.000000  110526.000000  110526.000000   \n",
       "mean        0.030400       0.020276       0.321029       0.201934   \n",
       "std         0.171686       0.140943       0.466874       0.401445   \n",
       "min         0.000000       0.000000       0.000000       0.000000   \n",
       "25%         0.000000       0.000000       0.000000       0.000000   \n",
       "50%         0.000000       0.000000       0.000000       0.000000   \n",
       "75%         0.000000       0.000000       1.000000       0.000000   \n",
       "max         1.000000       1.000000       1.000000       1.000000   \n",
       "\n",
       "        waiting_time  \n",
       "count  110526.000000  \n",
       "mean       -1.752845  \n",
       "std        10.329655  \n",
       "min       -30.000000  \n",
       "25%        -3.000000  \n",
       "50%         0.000000  \n",
       "75%         3.000000  \n",
       "max        30.000000  "
      ]
     },
     "execution_count": 17,
     "metadata": {},
     "output_type": "execute_result"
    }
   ],
   "source": [
    "df.describe()"
   ]
  },
  {
   "cell_type": "markdown",
   "metadata": {},
   "source": [
    "there is somthing weird here in the `waiting_time` column it looks like some of the values are negative\n",
    "so we need to look at the distripution of waiting time to figure out a way to fix that"
   ]
  },
  {
   "cell_type": "code",
   "execution_count": 18,
   "metadata": {},
   "outputs": [
    {
     "data": {
      "image/png": "[encoded data removed]",
      "text/plain": [
       "<Figure size 864x432 with 2 Axes>"
      ]
     },
     "metadata": {
      "needs_background": "light"
     },
     "output_type": "display_data"
    }
   ],
   "source": [
    "fig, axs = plt.subplots(1, 2, figsize=(12, 6))\n",
    "fig.suptitle(\"waiting time values\")\n",
    "axs[0].hist(df['waiting_time'], bins=15)\n",
    "axs[0].set_title(\"waiting_time distribution\")\n",
    "axs[0].set_xlabel(\"waiting time\")\n",
    "axs[0].set_ylabel(\"counts\")\n",
    "axs[1].pie([len(df.query(\"waiting_time < 0\")), len(df.query(\"waiting_time > 0\")), len(df.query(\"waiting_time == 0\"))],\n",
    "           labels=['negative', 'positive', 'zero'],\n",
    "           colors=['green', 'red', 'yellow'], shadow=True, autopct=\"%1.0f%%\")\n",
    "axs[1].set_title('waiting_time prportions')\n",
    "plt.show()\n"
   ]
  },
  {
   "cell_type": "code",
   "execution_count": 19,
   "metadata": {},
   "outputs": [
    {
     "data": {
      "text/html": [
       "<div>\n",
       "<style scoped>\n",
       "    .dataframe tbody tr th:only-of-type {\n",
       "        vertical-align: middle;\n",
       "    }\n",
       "\n",
       "    .dataframe tbody tr th {\n",
       "        vertical-align: top;\n",
       "    }\n",
       "\n",
       "    .dataframe thead th {\n",
       "        text-align: right;\n",
       "    }\n",
       "</style>\n",
       "<table border=\"1\" class=\"dataframe\">\n",
       "  <thead>\n",
       "    <tr style=\"text-align: right;\">\n",
       "      <th></th>\n",
       "      <th>gender</th>\n",
       "      <th>scheduled_day</th>\n",
       "      <th>appointment_day</th>\n",
       "      <th>age</th>\n",
       "      <th>neighbourhood</th>\n",
       "      <th>scholarship</th>\n",
       "      <th>hypertension</th>\n",
       "      <th>diabetes</th>\n",
       "      <th>alcoholism</th>\n",
       "      <th>handicap</th>\n",
       "      <th>sms_received</th>\n",
       "      <th>no_show</th>\n",
       "      <th>waiting_time</th>\n",
       "      <th>special_cond</th>\n",
       "    </tr>\n",
       "  </thead>\n",
       "  <tbody>\n",
       "    <tr>\n",
       "      <th>49</th>\n",
       "      <td>F</td>\n",
       "      <td>2016-03-31 17:11:17</td>\n",
       "      <td>2016-04-29</td>\n",
       "      <td>27</td>\n",
       "      <td>GRANDE VITÓRIA</td>\n",
       "      <td>0</td>\n",
       "      <td>0</td>\n",
       "      <td>0</td>\n",
       "      <td>0</td>\n",
       "      <td>0</td>\n",
       "      <td>1</td>\n",
       "      <td>1</td>\n",
       "      <td>-2</td>\n",
       "      <td>False</td>\n",
       "    </tr>\n",
       "    <tr>\n",
       "      <th>50</th>\n",
       "      <td>F</td>\n",
       "      <td>2016-03-31 17:12:45</td>\n",
       "      <td>2016-04-29</td>\n",
       "      <td>19</td>\n",
       "      <td>GRANDE VITÓRIA</td>\n",
       "      <td>0</td>\n",
       "      <td>0</td>\n",
       "      <td>0</td>\n",
       "      <td>0</td>\n",
       "      <td>0</td>\n",
       "      <td>1</td>\n",
       "      <td>1</td>\n",
       "      <td>-2</td>\n",
       "      <td>False</td>\n",
       "    </tr>\n",
       "    <tr>\n",
       "      <th>51</th>\n",
       "      <td>F</td>\n",
       "      <td>2016-03-31 17:05:31</td>\n",
       "      <td>2016-04-29</td>\n",
       "      <td>23</td>\n",
       "      <td>GRANDE VITÓRIA</td>\n",
       "      <td>1</td>\n",
       "      <td>0</td>\n",
       "      <td>0</td>\n",
       "      <td>0</td>\n",
       "      <td>0</td>\n",
       "      <td>1</td>\n",
       "      <td>1</td>\n",
       "      <td>-2</td>\n",
       "      <td>False</td>\n",
       "    </tr>\n",
       "    <tr>\n",
       "      <th>52</th>\n",
       "      <td>F</td>\n",
       "      <td>2016-03-31 17:06:17</td>\n",
       "      <td>2016-04-29</td>\n",
       "      <td>23</td>\n",
       "      <td>GRANDE VITÓRIA</td>\n",
       "      <td>1</td>\n",
       "      <td>0</td>\n",
       "      <td>0</td>\n",
       "      <td>0</td>\n",
       "      <td>0</td>\n",
       "      <td>1</td>\n",
       "      <td>1</td>\n",
       "      <td>-2</td>\n",
       "      <td>False</td>\n",
       "    </tr>\n",
       "    <tr>\n",
       "      <th>183</th>\n",
       "      <td>M</td>\n",
       "      <td>2016-03-30 07:32:47</td>\n",
       "      <td>2016-04-29</td>\n",
       "      <td>69</td>\n",
       "      <td>CONQUISTA</td>\n",
       "      <td>0</td>\n",
       "      <td>0</td>\n",
       "      <td>0</td>\n",
       "      <td>0</td>\n",
       "      <td>0</td>\n",
       "      <td>1</td>\n",
       "      <td>0</td>\n",
       "      <td>-1</td>\n",
       "      <td>False</td>\n",
       "    </tr>\n",
       "  </tbody>\n",
       "</table>\n",
       "</div>"
      ],
      "text/plain": [
       "    gender       scheduled_day appointment_day  age   neighbourhood  \\\n",
       "49       F 2016-03-31 17:11:17      2016-04-29   27  GRANDE VITÓRIA   \n",
       "50       F 2016-03-31 17:12:45      2016-04-29   19  GRANDE VITÓRIA   \n",
       "51       F 2016-03-31 17:05:31      2016-04-29   23  GRANDE VITÓRIA   \n",
       "52       F 2016-03-31 17:06:17      2016-04-29   23  GRANDE VITÓRIA   \n",
       "183      M 2016-03-30 07:32:47      2016-04-29   69       CONQUISTA   \n",
       "\n",
       "     scholarship  hypertension  diabetes  alcoholism  handicap  sms_received  \\\n",
       "49             0             0         0           0         0             1   \n",
       "50             0             0         0           0         0             1   \n",
       "51             1             0         0           0         0             1   \n",
       "52             1             0         0           0         0             1   \n",
       "183            0             0         0           0         0             1   \n",
       "\n",
       "     no_show  waiting_time  special_cond  \n",
       "49         1            -2         False  \n",
       "50         1            -2         False  \n",
       "51         1            -2         False  \n",
       "52         1            -2         False  \n",
       "183        0            -1         False  "
      ]
     },
     "execution_count": 19,
     "metadata": {},
     "output_type": "execute_result"
    }
   ],
   "source": [
    "df.query(\"waiting_time < 0\").head()"
   ]
  },
  {
   "cell_type": "markdown",
   "metadata": {},
   "source": [
    "so I think it's not the best solution to drop all negative values (27% of the data we have is too much) but the documentation of the dataset idicates that the schedualed day should be after the appointment day so I will assume that the columns were swaped regarding to some sort of mergeing dataframes or something by mistake and take the absolute value of the waiting time"
   ]
  },
  {
   "cell_type": "code",
   "execution_count": 20,
   "metadata": {},
   "outputs": [],
   "source": [
    "df['waiting_time'] = df['waiting_time'].abs()"
   ]
  },
  {
   "cell_type": "markdown",
   "metadata": {},
   "source": [
    "Now we don't need `appointment_day` and `scheduled_day` columns any more we can drop them"
   ]
  },
  {
   "cell_type": "code",
   "execution_count": 21,
   "metadata": {},
   "outputs": [
    {
     "data": {
      "text/html": [
       "<div>\n",
       "<style scoped>\n",
       "    .dataframe tbody tr th:only-of-type {\n",
       "        vertical-align: middle;\n",
       "    }\n",
       "\n",
       "    .dataframe tbody tr th {\n",
       "        vertical-align: top;\n",
       "    }\n",
       "\n",
       "    .dataframe thead th {\n",
       "        text-align: right;\n",
       "    }\n",
       "</style>\n",
       "<table border=\"1\" class=\"dataframe\">\n",
       "  <thead>\n",
       "    <tr style=\"text-align: right;\">\n",
       "      <th></th>\n",
       "      <th>gender</th>\n",
       "      <th>age</th>\n",
       "      <th>neighbourhood</th>\n",
       "      <th>scholarship</th>\n",
       "      <th>hypertension</th>\n",
       "      <th>diabetes</th>\n",
       "      <th>alcoholism</th>\n",
       "      <th>handicap</th>\n",
       "      <th>sms_received</th>\n",
       "      <th>no_show</th>\n",
       "      <th>waiting_time</th>\n",
       "      <th>special_cond</th>\n",
       "    </tr>\n",
       "  </thead>\n",
       "  <tbody>\n",
       "    <tr>\n",
       "      <th>0</th>\n",
       "      <td>F</td>\n",
       "      <td>62</td>\n",
       "      <td>JARDIM DA PENHA</td>\n",
       "      <td>0</td>\n",
       "      <td>1</td>\n",
       "      <td>0</td>\n",
       "      <td>0</td>\n",
       "      <td>0</td>\n",
       "      <td>0</td>\n",
       "      <td>0</td>\n",
       "      <td>0</td>\n",
       "      <td>True</td>\n",
       "    </tr>\n",
       "    <tr>\n",
       "      <th>1</th>\n",
       "      <td>M</td>\n",
       "      <td>56</td>\n",
       "      <td>JARDIM DA PENHA</td>\n",
       "      <td>0</td>\n",
       "      <td>0</td>\n",
       "      <td>0</td>\n",
       "      <td>0</td>\n",
       "      <td>0</td>\n",
       "      <td>0</td>\n",
       "      <td>0</td>\n",
       "      <td>0</td>\n",
       "      <td>False</td>\n",
       "    </tr>\n",
       "    <tr>\n",
       "      <th>2</th>\n",
       "      <td>F</td>\n",
       "      <td>62</td>\n",
       "      <td>MATA DA PRAIA</td>\n",
       "      <td>0</td>\n",
       "      <td>0</td>\n",
       "      <td>0</td>\n",
       "      <td>0</td>\n",
       "      <td>0</td>\n",
       "      <td>0</td>\n",
       "      <td>0</td>\n",
       "      <td>0</td>\n",
       "      <td>False</td>\n",
       "    </tr>\n",
       "  </tbody>\n",
       "</table>\n",
       "</div>"
      ],
      "text/plain": [
       "  gender  age    neighbourhood  scholarship  hypertension  diabetes  \\\n",
       "0      F   62  JARDIM DA PENHA            0             1         0   \n",
       "1      M   56  JARDIM DA PENHA            0             0         0   \n",
       "2      F   62    MATA DA PRAIA            0             0         0   \n",
       "\n",
       "   alcoholism  handicap  sms_received  no_show  waiting_time  special_cond  \n",
       "0           0         0             0        0             0          True  \n",
       "1           0         0             0        0             0         False  \n",
       "2           0         0             0        0             0         False  "
      ]
     },
     "execution_count": 21,
     "metadata": {},
     "output_type": "execute_result"
    }
   ],
   "source": [
    "# # drop the appointment_day and the scheduled_day \n",
    "df.drop(columns=['scheduled_day', 'appointment_day'], inplace=True)\n",
    "df.head(3)"
   ]
  },
  {
   "cell_type": "markdown",
   "metadata": {},
   "source": [
    "it would be easier if we divide the data to two data frames `df_showing` for patients who show up and `df_not_showing` for those who didn't"
   ]
  },
  {
   "cell_type": "code",
   "execution_count": 22,
   "metadata": {},
   "outputs": [
    {
     "data": {
      "text/html": [
       "<div>\n",
       "<style scoped>\n",
       "    .dataframe tbody tr th:only-of-type {\n",
       "        vertical-align: middle;\n",
       "    }\n",
       "\n",
       "    .dataframe tbody tr th {\n",
       "        vertical-align: top;\n",
       "    }\n",
       "\n",
       "    .dataframe thead th {\n",
       "        text-align: right;\n",
       "    }\n",
       "</style>\n",
       "<table border=\"1\" class=\"dataframe\">\n",
       "  <thead>\n",
       "    <tr style=\"text-align: right;\">\n",
       "      <th></th>\n",
       "      <th>gender</th>\n",
       "      <th>age</th>\n",
       "      <th>neighbourhood</th>\n",
       "      <th>scholarship</th>\n",
       "      <th>hypertension</th>\n",
       "      <th>diabetes</th>\n",
       "      <th>alcoholism</th>\n",
       "      <th>handicap</th>\n",
       "      <th>sms_received</th>\n",
       "      <th>no_show</th>\n",
       "      <th>waiting_time</th>\n",
       "      <th>special_cond</th>\n",
       "    </tr>\n",
       "  </thead>\n",
       "  <tbody>\n",
       "    <tr>\n",
       "      <th>0</th>\n",
       "      <td>F</td>\n",
       "      <td>62</td>\n",
       "      <td>JARDIM DA PENHA</td>\n",
       "      <td>0</td>\n",
       "      <td>1</td>\n",
       "      <td>0</td>\n",
       "      <td>0</td>\n",
       "      <td>0</td>\n",
       "      <td>0</td>\n",
       "      <td>0</td>\n",
       "      <td>0</td>\n",
       "      <td>True</td>\n",
       "    </tr>\n",
       "    <tr>\n",
       "      <th>1</th>\n",
       "      <td>M</td>\n",
       "      <td>56</td>\n",
       "      <td>JARDIM DA PENHA</td>\n",
       "      <td>0</td>\n",
       "      <td>0</td>\n",
       "      <td>0</td>\n",
       "      <td>0</td>\n",
       "      <td>0</td>\n",
       "      <td>0</td>\n",
       "      <td>0</td>\n",
       "      <td>0</td>\n",
       "      <td>False</td>\n",
       "    </tr>\n",
       "    <tr>\n",
       "      <th>2</th>\n",
       "      <td>F</td>\n",
       "      <td>62</td>\n",
       "      <td>MATA DA PRAIA</td>\n",
       "      <td>0</td>\n",
       "      <td>0</td>\n",
       "      <td>0</td>\n",
       "      <td>0</td>\n",
       "      <td>0</td>\n",
       "      <td>0</td>\n",
       "      <td>0</td>\n",
       "      <td>0</td>\n",
       "      <td>False</td>\n",
       "    </tr>\n",
       "  </tbody>\n",
       "</table>\n",
       "</div>"
      ],
      "text/plain": [
       "  gender  age    neighbourhood  scholarship  hypertension  diabetes  \\\n",
       "0      F   62  JARDIM DA PENHA            0             1         0   \n",
       "1      M   56  JARDIM DA PENHA            0             0         0   \n",
       "2      F   62    MATA DA PRAIA            0             0         0   \n",
       "\n",
       "   alcoholism  handicap  sms_received  no_show  waiting_time  special_cond  \n",
       "0           0         0             0        0             0          True  \n",
       "1           0         0             0        0             0         False  \n",
       "2           0         0             0        0             0         False  "
      ]
     },
     "execution_count": 22,
     "metadata": {},
     "output_type": "execute_result"
    }
   ],
   "source": [
    "df_showing = df.query(\"no_show == 0\")\n",
    "df_not_showing = df.loc[~df.index.isin(df_showing.index)]\n",
    "df_showing.head(3)"
   ]
  },
  {
   "cell_type": "code",
   "execution_count": 23,
   "metadata": {},
   "outputs": [
    {
     "data": {
      "text/html": [
       "<div>\n",
       "<style scoped>\n",
       "    .dataframe tbody tr th:only-of-type {\n",
       "        vertical-align: middle;\n",
       "    }\n",
       "\n",
       "    .dataframe tbody tr th {\n",
       "        vertical-align: top;\n",
       "    }\n",
       "\n",
       "    .dataframe thead th {\n",
       "        text-align: right;\n",
       "    }\n",
       "</style>\n",
       "<table border=\"1\" class=\"dataframe\">\n",
       "  <thead>\n",
       "    <tr style=\"text-align: right;\">\n",
       "      <th></th>\n",
       "      <th>gender</th>\n",
       "      <th>age</th>\n",
       "      <th>neighbourhood</th>\n",
       "      <th>scholarship</th>\n",
       "      <th>hypertension</th>\n",
       "      <th>diabetes</th>\n",
       "      <th>alcoholism</th>\n",
       "      <th>handicap</th>\n",
       "      <th>sms_received</th>\n",
       "      <th>no_show</th>\n",
       "      <th>waiting_time</th>\n",
       "      <th>special_cond</th>\n",
       "    </tr>\n",
       "  </thead>\n",
       "  <tbody>\n",
       "    <tr>\n",
       "      <th>6</th>\n",
       "      <td>F</td>\n",
       "      <td>23</td>\n",
       "      <td>GOIABEIRAS</td>\n",
       "      <td>0</td>\n",
       "      <td>0</td>\n",
       "      <td>0</td>\n",
       "      <td>0</td>\n",
       "      <td>0</td>\n",
       "      <td>0</td>\n",
       "      <td>1</td>\n",
       "      <td>2</td>\n",
       "      <td>False</td>\n",
       "    </tr>\n",
       "    <tr>\n",
       "      <th>7</th>\n",
       "      <td>F</td>\n",
       "      <td>39</td>\n",
       "      <td>GOIABEIRAS</td>\n",
       "      <td>0</td>\n",
       "      <td>0</td>\n",
       "      <td>0</td>\n",
       "      <td>0</td>\n",
       "      <td>0</td>\n",
       "      <td>0</td>\n",
       "      <td>1</td>\n",
       "      <td>2</td>\n",
       "      <td>False</td>\n",
       "    </tr>\n",
       "    <tr>\n",
       "      <th>11</th>\n",
       "      <td>M</td>\n",
       "      <td>29</td>\n",
       "      <td>NOVA PALESTINA</td>\n",
       "      <td>0</td>\n",
       "      <td>0</td>\n",
       "      <td>0</td>\n",
       "      <td>0</td>\n",
       "      <td>0</td>\n",
       "      <td>1</td>\n",
       "      <td>1</td>\n",
       "      <td>3</td>\n",
       "      <td>False</td>\n",
       "    </tr>\n",
       "  </tbody>\n",
       "</table>\n",
       "</div>"
      ],
      "text/plain": [
       "   gender  age   neighbourhood  scholarship  hypertension  diabetes  \\\n",
       "6       F   23      GOIABEIRAS            0             0         0   \n",
       "7       F   39      GOIABEIRAS            0             0         0   \n",
       "11      M   29  NOVA PALESTINA            0             0         0   \n",
       "\n",
       "    alcoholism  handicap  sms_received  no_show  waiting_time  special_cond  \n",
       "6            0         0             0        1             2         False  \n",
       "7            0         0             0        1             2         False  \n",
       "11           0         0             1        1             3         False  "
      ]
     },
     "execution_count": 23,
     "metadata": {},
     "output_type": "execute_result"
    }
   ],
   "source": [
    "df_not_showing.head(3)"
   ]
  },
  {
   "cell_type": "markdown",
   "metadata": {},
   "source": [
    "let's explore tha data a little further "
   ]
  },
  {
   "cell_type": "code",
   "execution_count": 24,
   "metadata": {},
   "outputs": [
    {
     "data": {
      "text/plain": [
       "(88207, 22319)"
      ]
     },
     "execution_count": 24,
     "metadata": {},
     "output_type": "execute_result"
    }
   ],
   "source": [
    "showing_count = len(df_showing)\n",
    "not_showing_count = len(df_not_showing)\n",
    "showing_count, not_showing_count"
   ]
  },
  {
   "cell_type": "code",
   "execution_count": 25,
   "metadata": {},
   "outputs": [
    {
     "data": {
      "image/png": "[encoded data removed]",
      "text/plain": [
       "<Figure size 432x288 with 1 Axes>"
      ]
     },
     "metadata": {},
     "output_type": "display_data"
    }
   ],
   "source": [
    "# precentage of showing to not showing \n",
    "plt.pie([showing_count, not_showing_count], labels=[\"Show up\", \"Didn't show up\"],\n",
    "        colors=['green', 'red'], explode=[0.2, 0], shadow=True, autopct=\"%1.0f%%\")\n",
    "\n",
    "plt.title(\"Showing Up vs Not Showing UP In Appointments\") \n",
    "plt.show()"
   ]
  },
  {
   "cell_type": "markdown",
   "metadata": {},
   "source": [
    "approximately 20% of the patients didn't show up in there appointments"
   ]
  },
  {
   "cell_type": "markdown",
   "metadata": {},
   "source": [
    "I will explore general properties of the data with histograms before procceding"
   ]
  },
  {
   "cell_type": "code",
   "execution_count": 26,
   "metadata": {},
   "outputs": [
    {
     "data": {
      "image/png": "[encoded data removed]",
      "text/plain": [
       "<Figure size 864x864 with 9 Axes>"
      ]
     },
     "metadata": {
      "needs_background": "light"
     },
     "output_type": "display_data"
    }
   ],
   "source": [
    "df.hist(figsize=(12, 12));"
   ]
  },
  {
   "cell_type": "markdown",
   "metadata": {},
   "source": [
    "- looks like the age distribution is right skewd as well as the waiting time distribution\n",
    "- not many patients have a handicap or diagnosed with diabetes or alchoholism\n",
    "- not many patients have a scholarship\n",
    "- nearly half of the patients recieved an SMS\n",
    "- 20% of the patients didn't show up in the appointment\n",
    "- about 20% of the patients diagnosed with hypertension"
   ]
  },
  {
   "cell_type": "markdown",
   "metadata": {},
   "source": [
    "<a id='eda'></a>\n",
    "## Exploratory Data Analysis\n",
    "\n",
    "\n",
    "### Research Question 1 Is gender of the patient related to showing up in the appointment?"
   ]
  },
  {
   "cell_type": "code",
   "execution_count": 27,
   "metadata": {},
   "outputs": [],
   "source": [
    "def cond_props_bar(col, cond1, cond2, labels, title, xlabel, ylabel):\n",
    "    \"\"\"Returns the proportions of patients show up\"\"\"\n",
    "    with_cond1 = len(df_showing.query(\"{} {}\".format(col, cond1))) / len(df.query(\"{} {}\".format(col, cond1)))\n",
    "    with_cond2 = len(df_showing.query(\"{} {}\".format(col, cond2))) / len(df.query(\"{} {}\".format(col, cond2)))\n",
    "    plt.bar(labels, height=[with_cond1, with_cond2])\n",
    "    plt.xlabel(xlabel)\n",
    "    plt.ylabel(ylabel)\n",
    "    plt.title(title)\n",
    "    plt.show()\n",
    "    return with_cond1, with_cond2"
   ]
  },
  {
   "cell_type": "code",
   "execution_count": 28,
   "metadata": {},
   "outputs": [
    {
     "data": {
      "image/png": "[encoded data removed]",
      "text/plain": [
       "<Figure size 432x288 with 1 Axes>"
      ]
     },
     "metadata": {
      "needs_background": "light"
     },
     "output_type": "display_data"
    }
   ],
   "source": [
    "# compare males and females\n",
    "males_showing_prop, females_showing_prop = cond_props_bar(col='gender', cond1='== \"M\"', cond2='== \"F\"', labels=[\"Males\", \"Females\"],\n",
    "                                                          title=\"Showing Up Proportions Based on Gender\", xlabel=\"Gender\", ylabel=\"Proportion\")"
   ]
  },
  {
   "cell_type": "code",
   "execution_count": 29,
   "metadata": {},
   "outputs": [
    {
     "name": "stdout",
     "output_type": "stream",
     "text": [
      "80.03% of males showed up in there appointments.\n",
      "79.69% of females showed up in there appointment.\n"
     ]
    }
   ],
   "source": [
    "print(\"{:.2f}% of males showed up in there appointments.\".format(males_showing_prop * 100))\n",
    "print(\"{:.2f}% of females showed up in there appointment.\".format(females_showing_prop* 100))"
   ]
  },
  {
   "cell_type": "markdown",
   "metadata": {},
   "source": [
    "So it's obvious that the gender of the patient doesn't affect showing up in the appointment since males have a showing up percentage 80.03%\n",
    "and females have a showing up percentage 79.69% so close to be the same."
   ]
  },
  {
   "cell_type": "markdown",
   "metadata": {},
   "source": [
    "### Research Question 2  : Is receiving an SMS affect showing up in the appointment?"
   ]
  },
  {
   "cell_type": "code",
   "execution_count": 30,
   "metadata": {},
   "outputs": [
    {
     "data": {
      "text/plain": [
       "32.10285362720084"
      ]
     },
     "execution_count": 30,
     "metadata": {},
     "output_type": "execute_result"
    }
   ],
   "source": [
    "# percentage of patients who received an SMS\n",
    "len(df.query('sms_received == 1')) / len(df) * 100"
   ]
  },
  {
   "cell_type": "code",
   "execution_count": 31,
   "metadata": {
    "collapsed": true
   },
   "outputs": [
    {
     "data": {
      "image/png": "[encoded data removed]",
      "text/plain": [
       "<Figure size 432x288 with 1 Axes>"
      ]
     },
     "metadata": {
      "needs_background": "light"
     },
     "output_type": "display_data"
    }
   ],
   "source": [
    "# receiving an SMS\n",
    "\n",
    "received, not_received = cond_props_bar(col=\"sms_received\", cond1=\"== 1\", cond2=\"== 0\", labels=['received an SMS', \"didn't receive an SMS\"], \n",
    "                                        title=\"Showing up Proportions Based on Receiving an SMS\", xlabel='SMS',\n",
    "                                        ylabel='Proportion of how many showed up')"
   ]
  },
  {
   "cell_type": "code",
   "execution_count": 32,
   "metadata": {},
   "outputs": [
    {
     "data": {
      "text/plain": [
       "(72.425455160363, 83.29646607323703)"
      ]
     },
     "execution_count": 32,
     "metadata": {},
     "output_type": "execute_result"
    }
   ],
   "source": [
    "# percentage of who showed up from people who received an SMS\n",
    "received * 100, not_received * 100 "
   ]
  },
  {
   "cell_type": "code",
   "execution_count": 33,
   "metadata": {},
   "outputs": [
    {
     "name": "stdout",
     "output_type": "stream",
     "text": [
      "People who didn't recieve an SMS have a showing up percentage higher by 10.87% than those who recieved\n"
     ]
    }
   ],
   "source": [
    "print(\"People who didn't recieve an SMS have a showing up percentage higher by {:.2f}% than those who recieved\"\\\n",
    "    .format((not_received - received) * 100))"
   ]
  },
  {
   "cell_type": "code",
   "execution_count": 34,
   "metadata": {},
   "outputs": [
    {
     "data": {
      "image/png": "[encoded data removed]",
      "text/plain": [
       "<Figure size 576x432 with 1 Axes>"
      ]
     },
     "metadata": {
      "needs_background": "light"
     },
     "output_type": "display_data"
    }
   ],
   "source": [
    "plt.subplots(figsize=(8, 6))\n",
    "df.groupby('no_show')['sms_received'].mean().plot(kind='bar')\n",
    "plt.title(\"Receiving SMS vs Showing up\")\n",
    "plt.xlabel('Showed up')\n",
    "plt.ylabel('Porportions of how many received an SMS')\n",
    "plt.xticks([0, 1], ['Yes', 'No'])\n",
    "plt.show()"
   ]
  },
  {
   "cell_type": "code",
   "execution_count": 35,
   "metadata": {},
   "outputs": [
    {
     "data": {
      "text/plain": [
       "no_show\n",
       "0    29.133742\n",
       "1    43.837089\n",
       "Name: sms_received, dtype: float64"
      ]
     },
     "execution_count": 35,
     "metadata": {},
     "output_type": "execute_result"
    }
   ],
   "source": [
    "df.groupby('no_show')['sms_received'].mean() * 100"
   ]
  },
  {
   "cell_type": "markdown",
   "metadata": {},
   "source": [
    "- 32.11% of the patients recieved an SMS\n",
    "- 72.43 of those who recieved an SMS showed up and 83.30% of those who didn't receive an SMS showed up\n",
    "- People who didn't recieve an SMS have a showing up percentage higher by 10.87% than those who recieved\n",
    "- 29.13% of people who showed up received an SMS and 43.84% of people who didn't show up received an SMS.\n",
    "\n",
    "so based on these facts we see that although the proportion of people who show up from those who didn't receive an SMS is higher we can't say that there is a correlation here.\n"
   ]
  },
  {
   "cell_type": "markdown",
   "metadata": {},
   "source": [
    "### Research Question 3  : Is the having a scholarship somehow related to showing up?\n"
   ]
  },
  {
   "cell_type": "code",
   "execution_count": 36,
   "metadata": {},
   "outputs": [
    {
     "data": {
      "image/png": "[encoded data removed]",
      "text/plain": [
       "<Figure size 432x288 with 1 Axes>"
      ]
     },
     "metadata": {
      "needs_background": "light"
     },
     "output_type": "display_data"
    }
   ],
   "source": [
    "plt.bar(['show up', \"didn't show up\"], height=[df_showing['scholarship'].mean(), df_not_showing['scholarship'].mean()])\n",
    "plt.ylabel(\"Proportion of Patient with Scholarship\")\n",
    "plt.title(\"proportions of scholarships\".title());"
   ]
  },
  {
   "cell_type": "code",
   "execution_count": 37,
   "metadata": {},
   "outputs": [
    {
     "name": "stdout",
     "output_type": "stream",
     "text": [
      "9.39% of people who show up have a scholarship.\n",
      "11.55% of people who didn't show up have a scholarship.\n"
     ]
    }
   ],
   "source": [
    "print(\"{:.2f}% of people who show up have a scholarship.\\n{:.2f}% of people who didn't show up have a scholarship.\"\\\n",
    "      .format(df_showing['scholarship'].mean() * 100, df_not_showing['scholarship'].mean() * 100))"
   ]
  },
  {
   "cell_type": "markdown",
   "metadata": {},
   "source": [
    "we see that 11.55% of the people that didn't show up have a scholarship thats higher than those who did show up by 2.16% and this difference is relatively big."
   ]
  },
  {
   "cell_type": "code",
   "execution_count": 38,
   "metadata": {},
   "outputs": [
    {
     "data": {
      "image/png": "[encoded data removed]",
      "text/plain": [
       "<Figure size 432x288 with 1 Axes>"
      ]
     },
     "metadata": {
      "needs_background": "light"
     },
     "output_type": "display_data"
    }
   ],
   "source": [
    "\n",
    "with_schol, without_schol = cond_props_bar(col='scholarship', cond1=\"== 1\", cond2=\"== 0\", labels=['with', 'without'],\n",
    "                                           title=\"Proportion of Patients Show Up\", xlabel=\"Scholarship\",\n",
    "                                           ylabel=\"Proportion of Patients Show up\")\n"
   ]
  },
  {
   "cell_type": "code",
   "execution_count": 39,
   "metadata": {},
   "outputs": [
    {
     "data": {
      "text/plain": [
       "(0.7626369579228433, 0.8019264536196258)"
      ]
     },
     "execution_count": 39,
     "metadata": {},
     "output_type": "execute_result"
    }
   ],
   "source": [
    "with_schol, without_schol"
   ]
  },
  {
   "cell_type": "code",
   "execution_count": 40,
   "metadata": {},
   "outputs": [
    {
     "data": {
      "text/plain": [
       "0.03928949569678253"
      ]
     },
     "execution_count": 40,
     "metadata": {},
     "output_type": "execute_result"
    }
   ],
   "source": [
    "without_schol - with_schol"
   ]
  },
  {
   "cell_type": "markdown",
   "metadata": {},
   "source": [
    "- 76.26% of people who have a scholarship show up and 80.19% of people who have no scholarship show up.\n",
    "- we see that 11.55% of the people that didn't show up have a scholarship thats higher than those who did show up by 2.16% and this difference is relatively big.\n"
   ]
  },
  {
   "cell_type": "markdown",
   "metadata": {},
   "source": [
    "### Research Question 4  : What is the proportion of patients who have been diagnosed with Diabetes, Alchoholism, Handicap or Hypertension and show up to those who have but didn't show up?"
   ]
  },
  {
   "cell_type": "code",
   "execution_count": 41,
   "metadata": {},
   "outputs": [
    {
     "data": {
      "image/png": "[encoded data removed]",
      "text/plain": [
       "<Figure size 432x432 with 1 Axes>"
      ]
     },
     "metadata": {},
     "output_type": "display_data"
    }
   ],
   "source": [
    "plt.figure(figsize=(6, 6))\n",
    "plt.pie([df_showing['special_cond'].sum(), df_not_showing['special_cond'].sum()], labels=[\"Show up\", \"Didn't show up\"],\n",
    "        colors=['green', 'red'], explode=[0.2, 0], shadow=True, autopct=\"%1.0f%%\")\n",
    "plt.title(\"Patient With Special Condition\")\n",
    "plt.show()"
   ]
  },
  {
   "cell_type": "markdown",
   "metadata": {},
   "source": [
    "- 82% of patients were having a special condition and show up and only 18% didn't show up."
   ]
  },
  {
   "cell_type": "markdown",
   "metadata": {},
   "source": [
    "### Research Question 5  : What is the showing up rate associeted with each neighbourhood?"
   ]
  },
  {
   "cell_type": "code",
   "execution_count": 42,
   "metadata": {},
   "outputs": [
    {
     "data": {
      "image/png": "[encoded data removed]",
      "text/plain": [
       "<Figure size 1152x576 with 1 Axes>"
      ]
     },
     "metadata": {
      "needs_background": "light"
     },
     "output_type": "display_data"
    }
   ],
   "source": [
    "plt.figure(figsize=(16, 8))\n",
    "df.groupby('neighbourhood')['no_show'].mean().sort_values(ascending=False).plot(kind='bar')\n",
    "plt.title(\"The Showing Up Proportions for Each Neighbourhood\")\n",
    "plt.ylabel(\"Proportion of Patients Showed Up\")\n",
    "plt.show()"
   ]
  },
  {
   "cell_type": "code",
   "execution_count": 43,
   "metadata": {},
   "outputs": [
    {
     "data": {
      "text/plain": [
       "'ILHAS OCEÂNICAS DE TRINDADE'"
      ]
     },
     "execution_count": 43,
     "metadata": {},
     "output_type": "execute_result"
    }
   ],
   "source": [
    "df.groupby('neighbourhood')['no_show'].mean().idxmax()"
   ]
  },
  {
   "cell_type": "code",
   "execution_count": 44,
   "metadata": {},
   "outputs": [
    {
     "data": {
      "text/plain": [
       "2"
      ]
     },
     "execution_count": 44,
     "metadata": {},
     "output_type": "execute_result"
    }
   ],
   "source": [
    "len(df.query(\"neighbourhood == 'ILHAS OCEÂNICAS DE TRINDADE'\"))"
   ]
  },
  {
   "cell_type": "markdown",
   "metadata": {},
   "source": [
    "- the highest neighbourhood showing up ratio is associated with 'ILHAS OCEÂNICAS DE TRINDADE' and that's obviosly because it only has two records\n",
    "so we can't indicate somthing special."
   ]
  },
  {
   "cell_type": "markdown",
   "metadata": {},
   "source": [
    "### Research Question 6  : What is the age distribution and is there a range where it is more likely to show up?"
   ]
  },
  {
   "cell_type": "code",
   "execution_count": 45,
   "metadata": {},
   "outputs": [],
   "source": [
    "def plot_hist(col, bins, title, xlabel, ylabel, legend, figsize):\n",
    "    \"\"\"plots a histogram\"\"\"\n",
    "    plt.subplots(figsize=figsize)\n",
    "    df[col].hist(bins=bins)\n",
    "    df_showing[col].hist(bins=bins)\n",
    "    df_not_showing[col].hist(bins=bins)\n",
    "    plt.title(title)\n",
    "    plt.ylabel(ylabel)\n",
    "    plt.xlabel(xlabel)\n",
    "    plt.legend(legend)\n",
    "    plt.show()"
   ]
  },
  {
   "cell_type": "code",
   "execution_count": 46,
   "metadata": {},
   "outputs": [],
   "source": [
    "def plot_kde(col, hue, bw_adjust, aspect, xlim, title, legend_labels, legend_title):\n",
    "    \"\"\"plots a kde distribution\"\"\"\n",
    "    fig = sns.FacetGrid(data=df, hue=hue, aspect=aspect)\n",
    "    fig.map(sns.kdeplot, col, shade=True, bw_adjust=bw_adjust)\n",
    "    fig.set(xlim=xlim)\n",
    "    plt.title(title)\n",
    "    plt.legend(labels=legend_labels, title=legend_title)\n",
    "    plt.show()\n",
    "    "
   ]
  },
  {
   "cell_type": "code",
   "execution_count": 47,
   "metadata": {},
   "outputs": [],
   "source": [
    "def cat_plot(x, y, kind, title, xlabel, ylabel):\n",
    "    sns.catplot(x=x, y=y, kind=kind, data=df)\n",
    "    plt.xticks([0, 1], ['Show up', 'Didn\\'t show up'])\n",
    "    plt.title(title)\n",
    "    plt.ylabel(ylabel)\n",
    "    plt.xlabel(xlabel)\n",
    "    plt.show()"
   ]
  },
  {
   "cell_type": "code",
   "execution_count": 48,
   "metadata": {},
   "outputs": [
    {
     "data": {
      "image/png": "[encoded data removed]",
      "text/plain": [
       "<Figure size 360x360 with 1 Axes>"
      ]
     },
     "metadata": {
      "needs_background": "light"
     },
     "output_type": "display_data"
    }
   ],
   "source": [
    "cat_plot(x='no_show', y='age', kind='box', title='Age Box Plots', xlabel='Showing Up', ylabel='Age')"
   ]
  },
  {
   "cell_type": "markdown",
   "metadata": {},
   "source": [
    "both the age distrubutions of people who show up or didn't are pretty similer"
   ]
  },
  {
   "cell_type": "code",
   "execution_count": 49,
   "metadata": {},
   "outputs": [
    {
     "data": {
      "image/png": "[encoded data removed]",
      "text/plain": [
       "<Figure size 576x432 with 1 Axes>"
      ]
     },
     "metadata": {
      "needs_background": "light"
     },
     "output_type": "display_data"
    }
   ],
   "source": [
    "# the age distribution \n",
    "plot_hist(col='age', bins=50, title=\"Age Distribution\", xlabel=\"Age\", ylabel='Counts',\n",
    "          legend=['both', 'show up', \"didn't show up\"], figsize=(8, 6))"
   ]
  },
  {
   "cell_type": "code",
   "execution_count": 50,
   "metadata": {},
   "outputs": [
    {
     "data": {
      "image/png": "[encoded data removed]",
      "text/plain": [
       "<Figure size 1296x216 with 1 Axes>"
      ]
     },
     "metadata": {
      "needs_background": "light"
     },
     "output_type": "display_data"
    }
   ],
   "source": [
    "# we see the kde plot that is less cluttered will help us understand the distribution in a simpler way\n",
    "oldest = df['age'].max()\n",
    "\n",
    "plot_kde(col='age', hue='no_show', bw_adjust=.35, aspect=6,xlim=(0, oldest),\n",
    "         title='Age Distribution', legend_labels=['Yes', \"No\"], legend_title=\"Show up\")"
   ]
  },
  {
   "cell_type": "markdown",
   "metadata": {},
   "source": [
    "from the ages distribution we can see that\n",
    "\n",
    "\n",
    "- from 0 to 5 years old more patients show up\n",
    "- from 5 to 45 years more patients didn't show up \n",
    "- from 45 to 90 years more patients show up\n"
   ]
  },
  {
   "cell_type": "markdown",
   "metadata": {},
   "source": [
    " ### Research Question 7: Is there a relationship between the waiting time and the number of patients showing up?"
   ]
  },
  {
   "cell_type": "code",
   "execution_count": 51,
   "metadata": {},
   "outputs": [
    {
     "data": {
      "image/png": "[encoded data removed]",
      "text/plain": [
       "<Figure size 360x360 with 1 Axes>"
      ]
     },
     "metadata": {
      "needs_background": "light"
     },
     "output_type": "display_data"
    }
   ],
   "source": [
    "cat_plot(x='no_show', y='waiting_time', kind='box', title='Waiting Time Box Plots', xlabel='Showing Up', ylabel='Waiting Time')"
   ]
  },
  {
   "cell_type": "markdown",
   "metadata": {},
   "source": [
    "- 75% of patients who didn't show up their waiting time was less than or equal to 15 days.\n",
    "- more than 75% of patients who show up their waiting time was less than 10 days, and 50% was less than 3 days.\n",
    "- excluding the outliers all the patients who show up their waiting time was less than 23 days."
   ]
  },
  {
   "cell_type": "code",
   "execution_count": 52,
   "metadata": {},
   "outputs": [
    {
     "data": {
      "image/png": "[encoded data removed]",
      "text/plain": [
       "<Figure size 576x432 with 1 Axes>"
      ]
     },
     "metadata": {
      "needs_background": "light"
     },
     "output_type": "display_data"
    }
   ],
   "source": [
    "# check distribution\n",
    "plot_hist(col='waiting_time', bins=30, title=\"Waiting Time Distribution\", xlabel=\"Waiting Time\",\n",
    "          ylabel=\"Counts\", legend=['Show up', \"Didn't show up\"], figsize=(8, 6))"
   ]
  },
  {
   "cell_type": "code",
   "execution_count": 53,
   "metadata": {},
   "outputs": [
    {
     "data": {
      "image/png": "[encoded data removed]",
      "text/plain": [
       "<Figure size 1296x216 with 1 Axes>"
      ]
     },
     "metadata": {
      "needs_background": "light"
     },
     "output_type": "display_data"
    }
   ],
   "source": [
    "# check the distribution of waiting time with a kde plot\n",
    "max_waiting_time = df['waiting_time'].max()\n",
    "\n",
    "plot_kde(col='waiting_time', hue='no_show', bw_adjust=0.1, aspect=6, xlim=(0, max_waiting_time),\n",
    "         title=\"Waiting Time Distribution\", legend_labels=['Yes', \"No\"], legend_title=\"Show up\")"
   ]
  },
  {
   "cell_type": "markdown",
   "metadata": {},
   "source": [
    "from the distribution we can see that patients who schedule an appointment in the same day have significatly high propablity to show up \n",
    "\n",
    "and those who schedule in the next day its probable that they will show up\n",
    "\n",
    "other wise it's probable that they won't show up"
   ]
  },
  {
   "cell_type": "markdown",
   "metadata": {},
   "source": [
    "<a id='conclusions'></a>\n",
    "## Conclusions\n"
   ]
  },
  {
   "cell_type": "markdown",
   "metadata": {},
   "source": [
    "### findings\n",
    "- approximately 20% of the patients didn't show up in there appointments\n",
    "- the gender of the patient isn't related to showing up in the appointment since males have a showing up percentage 80.03%\n",
    "and females have a showing up percentage 79.69% so close to be the same.\n",
    "\n",
    "\n",
    "- 32.11% of the patients recieved an SMS\n",
    "- 72.43 of those who recieved an SMS showed up and 83.30% of those who didn't receive an SMS showed up\n",
    "- People who didn't recieve an SMS have a showing up percentage higher by 10.87% than those who recieved\n",
    "- 29.13% of people who showed up received an SMS and 43.84% of people who didn't show up received an SMS.\n",
    "\n",
    "so based on these facts we see that although the proportion of people who should up from those who didn't receive an SMS is higher we can't say that there is a correlation here.\n",
    "\n",
    "\n",
    "- 76.26% of people who have a scholarship show up and 80.19% of people who have no scholarship show up.\n",
    "- 11.55% of the people that didn't show up have a scholarship thats higher than those who did show up by 2.16% and this difference is relatively big.\n",
    "\n",
    "\n",
    "- 82% of patients were having a special condition and show up and only 18% didn't show up.\n",
    "\n",
    "\n",
    "- the highest neighbourhood showing up ratio is associated with 'ILHAS OCEÂNICAS DE TRINDADE' and that's obviosly because it only has to records\n",
    "so we can't indicate something special.\n",
    "\n",
    "#### the age distribution is right skewed and we saw from it that\n",
    "both the age distrubutions of people who show up or didn't are pretty similer\n",
    "- from 0 to 5 years old more patients show up\n",
    "- from 5 to 45 years more patients didn't show up \n",
    "- from 45 to 90 years more patients show up\n",
    "\n",
    "\n",
    "#### the waiting time distribution is right skewed\n",
    "- 75% of patients who didn't show up their waiting time was less than or equal to 15 days.\n",
    "- more than 75% of patients who show up their waiting time was less than 10 days, and 50% was less than 3 days.\n",
    "- excluding the outliers all the patients who show up their waiting time was less than 23 days.\n",
    "\n",
    "- that patients who schedule an appointment in the same day have significatly high propablity to show up \n",
    "\n",
    "- and those who schedule in the next day its probable that they will show up\n",
    "\n",
    "- other wise it's probable that they won't show up\n",
    "\n",
    "\n",
    "\n",
    "\n",
    "### Limitations \n",
    "- only a very small proportion of the data is diagnosed with special cases and that makes the results not reliable.\n",
    "- the documentation of the dataset was ambigous regarding the `appointment_day` and `scheduled_day` columns so it might affect the conclusions.\n",
    "- in the handicap column there was values greater than one so we casted it to 1s this might be incorrect and affect the conclusions."
   ]
  }
 ],
 "metadata": {
  "interpreter": {
   "hash": "76cfa0cadc93e9139219a73a0c7ba3b6e755866840f7b8bc48426c4c92c39ec1"
  },
  "kernelspec": {
   "display_name": "Python 3 (ipykernel)",
   "language": "python",
   "name": "python3"
  },
  "language_info": {
   "codemirror_mode": {
    "name": "ipython",
    "version": 3
   },
   "file_extension": ".py",
   "mimetype": "text/x-python",
   "name": "python",
   "nbconvert_exporter": "python",
   "pygments_lexer": "ipython3",
   "version": "3.10.1"
  }
 },
 "nbformat": 4,
 "nbformat_minor": 2
}
